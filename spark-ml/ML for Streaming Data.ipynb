{
 "cells": [
  {
   "cell_type": "code",
   "execution_count": 0,
   "metadata": {
    "application/vnd.databricks.v1+cell": {
     "cellMetadata": {
      "byteLimit": 2048000,
      "rowLimit": 10000
     },
     "inputWidgets": {},
     "nuid": "9a06ca2f-351b-418c-8e8d-66234831e095",
     "showTitle": false,
     "tableResultSettingsMap": {},
     "title": ""
    }
   },
   "outputs": [
    {
     "name": "stdout",
     "output_type": "stream",
     "text": [
      "<azure.kusto.data.response.KustoResponseDataSetV1 object at 0x7f88045d79d0>\n"
     ]
    }
   ],
   "source": [
    "from azure.kusto.data import KustoConnectionStringBuilder, KustoClient\n",
    "\n",
    "# ADX Cluster & Database\n",
    "cluster = \"<uri>\"\n",
    "database = \"iot-table\"\n",
    "\n",
    "# Use your existing App Registration details\n",
    "client_id = \"<CLIENT_ID>\"       # Application (Client) ID\n",
    "client_secret = \"<SECRET>\"  # Client Secret Value\n",
    "tenant_id = \"<TENANT ID>\"        # Directory (Tenant) ID\n",
    "\n",
    "# Authenticate with ADX using Service Principal\n",
    "kcsb = KustoConnectionStringBuilder.with_aad_application_key_authentication(\n",
    "    cluster, client_id, client_secret, tenant_id\n",
    ")\n",
    "client = KustoClient(kcsb)\n",
    "\n",
    "# Test Query to Check Access\n",
    "response = client.execute(database, \".show tables\")\n",
    "print(response)\n"
   ]
  },
  {
   "cell_type": "code",
   "execution_count": 0,
   "metadata": {
    "application/vnd.databricks.v1+cell": {
     "cellMetadata": {
      "byteLimit": 2048000,
      "rowLimit": 10000
     },
     "inputWidgets": {},
     "nuid": "3a74117d-2f08-4036-9e2d-757adfbbaabe",
     "showTitle": false,
     "tableResultSettingsMap": {},
     "title": ""
    }
   },
   "outputs": [
    {
     "name": "stdout",
     "output_type": "stream",
     "text": [
      "            deviceId  ...             received_time\n",
      "0  device10000181022  ...  2025-02-27T10:49:26.346Z\n",
      "1  device10000181022  ...  2025-02-27T10:49:26.471Z\n",
      "2  device10000181022  ...  2025-02-27T10:49:26.471Z\n",
      "3  device10000181022  ...  2025-02-27T10:49:26.471Z\n",
      "4  device10000181022  ...  2025-02-27T10:49:27.346Z\n",
      "\n",
      "[5 rows x 6 columns]\n"
     ]
    }
   ],
   "source": [
    "query = \"iot_table_new1 | take 10\"  # Fetch 10 latest sensor records\n",
    "\n",
    "# Execute query\n",
    "response = client.execute(database, query)\n",
    "\n",
    "# Convert response to Pandas DataFrame\n",
    "rows = response.primary_results[0]\n",
    "df = pd.DataFrame(rows.raw_rows, columns=[col.column_name for col in rows.columns])\n",
    "\n",
    "# Show first few rows\n",
    "print(df.head())\n"
   ]
  },
  {
   "cell_type": "code",
   "execution_count": 0,
   "metadata": {
    "application/vnd.databricks.v1+cell": {
     "cellMetadata": {
      "byteLimit": 2048000,
      "rowLimit": 10000
     },
     "inputWidgets": {},
     "nuid": "2339014e-e70f-405f-a81a-833695f4101e",
     "showTitle": false,
     "tableResultSettingsMap": {},
     "title": ""
    }
   },
   "outputs": [
    {
     "name": "stdout",
     "output_type": "stream",
     "text": [
      "+-----------------+-----------+------------------+\n",
      "|         deviceId|temperature|  rolling_avg_temp|\n",
      "+-----------------+-----------+------------------+\n",
      "|device10000181022|      20.21|             20.21|\n",
      "|device10000181022|      23.16|21.685000000000002|\n",
      "|device10000181022|      27.64|             23.67|\n",
      "|device10000181022|      28.23|24.810000000000002|\n",
      "|device10000181022|      19.72|            23.792|\n",
      "|device10000181022|      30.66|24.936666666666667|\n",
      "|device10000181022|      24.25|             25.61|\n",
      "|device10000181022|       27.4|26.316666666666666|\n",
      "|device10000181022|       26.9| 26.19333333333333|\n",
      "|device10000181022|      29.31|26.373333333333335|\n",
      "+-----------------+-----------+------------------+\n",
      "\n"
     ]
    }
   ],
   "source": [
    "from pyspark.sql import SparkSession\n",
    "from pyspark.sql.window import Window\n",
    "from pyspark.sql.functions import avg, col\n",
    "\n",
    "# Initialize Spark Session\n",
    "spark = SparkSession.builder.appName(\"ADXtoDatabricks\").getOrCreate()\n",
    "\n",
    "# Convert Pandas to PySpark DataFrame\n",
    "df_spark = spark.createDataFrame(df)\n",
    "\n",
    "# Define a window to calculate moving average for last 5 readings\n",
    "window_spec = Window.orderBy(\"received_time\").rowsBetween(-5, 0)\n",
    "\n",
    "# Compute rolling average of temperature\n",
    "df_ml = df_spark.withColumn(\"rolling_avg_temp\", avg(col(\"temperature\")).over(window_spec))\n",
    "\n",
    "# Show results\n",
    "df_ml.select(\"deviceId\", \"temperature\", \"rolling_avg_temp\").show(10)\n"
   ]
  },
  {
   "cell_type": "code",
   "execution_count": 0,
   "metadata": {
    "application/vnd.databricks.v1+cell": {
     "cellMetadata": {
      "byteLimit": 2048000,
      "rowLimit": 10000
     },
     "inputWidgets": {},
     "nuid": "9a1637ab-8d01-4ae5-baa3-e45459bc7d87",
     "showTitle": false,
     "tableResultSettingsMap": {},
     "title": ""
    }
   },
   "outputs": [
    {
     "name": "stdout",
     "output_type": "stream",
     "text": [
      "+-----------------+-----------+------------------+--------+\n",
      "|         deviceId|temperature|  rolling_avg_temp|is_spike|\n",
      "+-----------------+-----------+------------------+--------+\n",
      "|device10000181022|      20.21|             20.21|   false|\n",
      "|device10000181022|      23.16|21.685000000000002|   false|\n",
      "|device10000181022|      27.64|             23.67|   false|\n",
      "|device10000181022|      28.23|24.810000000000002|   false|\n",
      "|device10000181022|      19.72|            23.792|   false|\n",
      "|device10000181022|      30.66|24.936666666666667|    true|\n",
      "|device10000181022|      24.25|             25.61|   false|\n",
      "|device10000181022|       27.4|26.316666666666666|   false|\n",
      "|device10000181022|       26.9| 26.19333333333333|   false|\n",
      "|device10000181022|      29.31|26.373333333333335|   false|\n",
      "+-----------------+-----------+------------------+--------+\n",
      "\n"
     ]
    }
   ],
   "source": [
    "threshold = 5  # Define a temperature increase threshold (adjust as needed)\n",
    "\n",
    "# Add a new column to flag temperature spikes\n",
    "df_spikes = df_ml.withColumn(\"is_spike\", col(\"temperature\") > (col(\"rolling_avg_temp\") + threshold))\n",
    "\n",
    "# Show detected spikes\n",
    "df_spikes.select(\"deviceId\", \"temperature\", \"rolling_avg_temp\", \"is_spike\").show(10)\n"
   ]
  },
  {
   "cell_type": "code",
   "execution_count": 0,
   "metadata": {
    "application/vnd.databricks.v1+cell": {
     "cellMetadata": {
      "byteLimit": 2048000,
      "rowLimit": 10000
     },
     "inputWidgets": {},
     "nuid": "0a900bc7-8d69-4452-aae7-5908e3763cec",
     "showTitle": false,
     "tableResultSettingsMap": {},
     "title": ""
    }
   },
   "outputs": [],
   "source": [
    "from pyspark.sql import SparkSession\n",
    "from pyspark.sql.functions import col\n",
    "from pyspark.sql.types import StructType, StringType, FloatType, TimestampType\n",
    "\n",
    "# Initialize Spark Session\n",
    "spark = SparkSession.builder.appName(\"ADX_Streaming_Polling\").getOrCreate()\n",
    "\n",
    "# Define Schema for IoT data\n",
    "schema = StructType() \\\n",
    "    .add(\"deviceId\", StringType()) \\\n",
    "    .add(\"temperature\", FloatType()) \\\n",
    "    .add(\"humidity\", FloatType()) \\\n",
    "    .add(\"status\", StringType()) \\\n",
    "    .add(\"sent_time\", TimestampType()) \\\n",
    "    .add(\"received_time\", TimestampType())\n",
    "\n",
    "# Read data from Azure Data Explorer (ADX) every 5 seconds\n",
    "df_stream = spark.readStream \\\n",
    "    .format(\"com.microsoft.azure.kusto.spark.datasource\") \\\n",
    "    .option(\"kustoCluster\", \"<URI>\") \\\n",
    "    .option(\"kustoDatabase\", \"iot-table\") \\\n",
    "    .option(\"kustoQuery\", \"iot_table_new1 | where received_time > ago(10s)\") \\\n",
    "    .load()\n",
    "\n",
    "# Display streaming data in Databricks\n",
    "df_stream.writeStream \\\n",
    "    .outputMode(\"append\") \\\n",
    "    .format(\"console\") \\\n",
    "    .trigger(processingTime=\"5 seconds\") \\\n",
    "    .start()\n"
   ]
  }
 ],
 "metadata": {
  "application/vnd.databricks.v1+notebook": {
   "computePreferences": null,
   "dashboards": [],
   "environmentMetadata": {
    "base_environment": "",
    "environment_version": "2"
   },
   "language": "python",
   "notebookMetadata": {
    "pythonIndentUnit": 4
   },
   "notebookName": "ML for Streaming Data",
   "widgets": {}
  },
  "language_info": {
   "name": "python"
  }
 },
 "nbformat": 4,
 "nbformat_minor": 0
}
